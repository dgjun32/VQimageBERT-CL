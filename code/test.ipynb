{
 "cells": [
  {
   "cell_type": "code",
   "execution_count": 1,
   "metadata": {},
   "outputs": [],
   "source": [
    "import torch\n",
    "import matplotlib.pyplot as plt\n"
   ]
  },
  {
   "cell_type": "code",
   "execution_count": 2,
   "metadata": {},
   "outputs": [],
   "source": [
    "from model import VQImageBERT\n",
    "from objective import VQImageBERTObj\n",
    "from config import cfg\n",
    "from datasets import ImageDataset\n",
    "from resource import getrusage, RUSAGE_SELF"
   ]
  },
  {
   "cell_type": "code",
   "execution_count": 3,
   "metadata": {},
   "outputs": [],
   "source": [
    "dataset = ImageDataset('val', cfg)\n",
    "loader = torch.utils.data.DataLoader(dataset, batch_size=4)\n"
   ]
  },
  {
   "cell_type": "code",
   "execution_count": 4,
   "metadata": {},
   "outputs": [],
   "source": [
    "batch = next(iter(loader))"
   ]
  },
  {
   "cell_type": "code",
   "execution_count": 5,
   "metadata": {},
   "outputs": [
    {
     "name": "stdout",
     "output_type": "stream",
     "text": [
      "Peak memory (MiB): 811\n"
     ]
    }
   ],
   "source": [
    "model_loss = VQImageBERTObj(cfg)\n",
    "print(\"Peak memory (MiB):\",\n",
    "      int(getrusage(RUSAGE_SELF).ru_maxrss / 1024/1024))"
   ]
  },
  {
   "cell_type": "code",
   "execution_count": 6,
   "metadata": {},
   "outputs": [
    {
     "name": "stdout",
     "output_type": "stream",
     "text": [
      "Peak memory (MiB): 2463\n"
     ]
    }
   ],
   "source": [
    "model_loss(batch)\n",
    "print(\"Peak memory (MiB):\",\n",
    "      int(getrusage(RUSAGE_SELF).ru_maxrss / 1024/1024))"
   ]
  },
  {
   "cell_type": "code",
   "execution_count": null,
   "metadata": {},
   "outputs": [],
   "source": []
  }
 ],
 "metadata": {
  "interpreter": {
   "hash": "8a06f093cbaeec228923b48b78a81a3ad5fd7f429a83b09002ee2923fc0db60a"
  },
  "kernelspec": {
   "display_name": "Python 3.9.0 ('imagegpt')",
   "language": "python",
   "name": "python3"
  },
  "language_info": {
   "codemirror_mode": {
    "name": "ipython",
    "version": 3
   },
   "file_extension": ".py",
   "mimetype": "text/x-python",
   "name": "python",
   "nbconvert_exporter": "python",
   "pygments_lexer": "ipython3",
   "version": "3.9.0"
  },
  "orig_nbformat": 4
 },
 "nbformat": 4,
 "nbformat_minor": 2
}
